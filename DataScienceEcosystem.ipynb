{
 "cells": [
  {
   "cell_type": "markdown",
   "id": "3dc25f98",
   "metadata": {},
   "source": [
    "# Data Science Tools and Ecosystem"
   ]
  },
  {
   "attachments": {},
   "cell_type": "markdown",
   "id": "d261e0b8",
   "metadata": {},
   "source": [
    "### In this notebook, Data Science Tools and Ecosystem are summarized."
   ]
  },
  {
   "cell_type": "markdown",
   "id": "c779a396",
   "metadata": {},
   "source": [
    "###### Some of the popular languages that Data Scientists use are:\n",
    "    R & R Studio\n",
    "    Python\n",
    "    Git & GitHub for Repository and version control\n",
    "    JavaScript\n",
    "    Julia etc."
   ]
  },
  {
   "cell_type": "markdown",
   "id": "7e60c70a",
   "metadata": {},
   "source": [
    "**Objectives:**\n",
    "    1- Programming Languages and platforms covered\n",
    "        Jupyter notebook\n",
    "        python\n",
    "        R studio\n",
    "        Git/GitHub\n",
    "    2- Data Science (IBM Skill Network launcher for Jupyter)\n",
    "        Plotting with R Studio\n",
    "        Creating Data Visualization using ggplot\n",
    "        Download and Install R and R studio\n",
    "        GitHub account creation and Repository\n",
    "        et..\n",
    "        "
   ]
  },
  {
   "attachments": {},
   "cell_type": "markdown",
   "id": "8642ad56",
   "metadata": {},
   "source": [
    "#### Some of the commonly used libraries used by Data Scientists include:\n",
    "    1. ggplot & ggplot2\n",
    "    2. matplotlib\n",
    "    3. numpy\n",
    "    4. seaborn\n",
    "    5. pandas"
   ]
  },
  {
   "attachments": {},
   "cell_type": "markdown",
   "id": "5cc067fe",
   "metadata": {},
   "source": [
    "|  Data Science Tools  |\n",
    " ------------------------------\n",
    " 1. R & R Studio\n",
    " ----------------------\n",
    " 2. Python\n",
    " ----------------------\n",
    " 3. Git / GitHub\n",
    " ----------------------"
   ]
  },
  {
   "cell_type": "markdown",
   "id": "b4a55c38",
   "metadata": {},
   "source": [
    "### Below are a few examples of evaluating arithmetic expressions in Python"
   ]
  },
  {
   "cell_type": "code",
   "execution_count": 1,
   "id": "4d8a0873",
   "metadata": {},
   "outputs": [
    {
     "name": "stdout",
     "output_type": "stream",
     "text": [
      "17\n"
     ]
    }
   ],
   "source": [
    "#This a simple arithmetic expression to mutiply then add integers\n",
    "x=(3*4)+5\n",
    "print(x)"
   ]
  },
  {
   "cell_type": "code",
   "execution_count": 2,
   "id": "d8a21e00",
   "metadata": {},
   "outputs": [
    {
     "name": "stdout",
     "output_type": "stream",
     "text": [
      "3.3333333333333335\n"
     ]
    }
   ],
   "source": [
    "#This will convert 200 minutes to hours by diving by 60\n",
    "x=200  #minutes\n",
    "y=(200/60)\n",
    "print(y)"
   ]
  },
  {
   "cell_type": "markdown",
   "id": "45b989bc",
   "metadata": {},
   "source": [
    "## Author:\n",
    "\n",
    "***ZIA UR REHMAN***"
   ]
  }
 ],
 "metadata": {
  "kernelspec": {
   "display_name": "Python 3 (ipykernel)",
   "language": "python",
   "name": "python3"
  },
  "language_info": {
   "codemirror_mode": {
    "name": "ipython",
    "version": 3
   },
   "file_extension": ".py",
   "mimetype": "text/x-python",
   "name": "python",
   "nbconvert_exporter": "python",
   "pygments_lexer": "ipython3",
   "version": "3.11.5"
  }
 },
 "nbformat": 4,
 "nbformat_minor": 5
}
